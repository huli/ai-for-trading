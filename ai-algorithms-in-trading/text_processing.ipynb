{
 "cells": [
  {
   "cell_type": "markdown",
   "metadata": {},
   "source": [
    "# Text Processing\n",
    "\n",
    "## Capturing Text Data\n",
    "\n",
    "### Plain Text"
   ]
  },
  {
   "cell_type": "code",
   "execution_count": 1,
   "metadata": {},
   "outputs": [
    {
     "name": "stdout",
     "output_type": "stream",
     "text": [
      "Hieroglyphic writing dates from c. 3000 BC, and is composed of hundreds of symbols. A hieroglyph can represent a word, a sound, or a silent determinative; and the same symbol can serve different purposes in different contexts. Hieroglyphs were a formal script, used on stone monuments and in tombs, that could be as detailed as individual works of art.\n",
      "\n"
     ]
    }
   ],
   "source": [
    "import os\n",
    "\n",
    "# Read in a plain text file\n",
    "with open(os.path.join(\"data\", \"hieroglyph.txt\"), \"r\") as f:\n",
    "    text = f.read()\n",
    "    print(text)"
   ]
  },
  {
   "cell_type": "markdown",
   "metadata": {},
   "source": [
    "### Tabular Data"
   ]
  },
  {
   "cell_type": "code",
   "execution_count": 2,
   "metadata": {
    "scrolled": true
   },
   "outputs": [
    {
     "data": {
      "text/html": [
       "<div>\n",
       "<style scoped>\n",
       "    .dataframe tbody tr th:only-of-type {\n",
       "        vertical-align: middle;\n",
       "    }\n",
       "\n",
       "    .dataframe tbody tr th {\n",
       "        vertical-align: top;\n",
       "    }\n",
       "\n",
       "    .dataframe thead th {\n",
       "        text-align: right;\n",
       "    }\n",
       "</style>\n",
       "<table border=\"1\" class=\"dataframe\">\n",
       "  <thead>\n",
       "    <tr style=\"text-align: right;\">\n",
       "      <th></th>\n",
       "      <th>publisher</th>\n",
       "      <th>title</th>\n",
       "    </tr>\n",
       "  </thead>\n",
       "  <tbody>\n",
       "    <tr>\n",
       "      <th>0</th>\n",
       "      <td>Livemint</td>\n",
       "      <td>fed's charles plosser sees high bar for change...</td>\n",
       "    </tr>\n",
       "    <tr>\n",
       "      <th>1</th>\n",
       "      <td>IFA Magazine</td>\n",
       "      <td>us open: stocks fall after fed official hints ...</td>\n",
       "    </tr>\n",
       "    <tr>\n",
       "      <th>2</th>\n",
       "      <td>IFA Magazine</td>\n",
       "      <td>fed risks falling 'behind the curve', charles ...</td>\n",
       "    </tr>\n",
       "    <tr>\n",
       "      <th>3</th>\n",
       "      <td>Moneynews</td>\n",
       "      <td>fed's plosser: nasty weather has curbed job gr...</td>\n",
       "    </tr>\n",
       "    <tr>\n",
       "      <th>4</th>\n",
       "      <td>NASDAQ</td>\n",
       "      <td>plosser: fed may have to accelerate tapering pace</td>\n",
       "    </tr>\n",
       "  </tbody>\n",
       "</table>\n",
       "</div>"
      ],
      "text/plain": [
       "      publisher                                              title\n",
       "0      Livemint  fed's charles plosser sees high bar for change...\n",
       "1  IFA Magazine  us open: stocks fall after fed official hints ...\n",
       "2  IFA Magazine  fed risks falling 'behind the curve', charles ...\n",
       "3     Moneynews  fed's plosser: nasty weather has curbed job gr...\n",
       "4        NASDAQ  plosser: fed may have to accelerate tapering pace"
      ]
     },
     "execution_count": 2,
     "metadata": {},
     "output_type": "execute_result"
    }
   ],
   "source": [
    "import pandas as pd\n",
    "\n",
    "# Extract text column from a dataframe\n",
    "df = pd.read_csv(os.path.join(\"data\", \"news.csv\"))\n",
    "df.head()[['publisher', 'title']]\n",
    "\n",
    "# Convert text column to lowercase\n",
    "df['title'] = df['title'].str.lower()\n",
    "df.head()[['publisher', 'title']]"
   ]
  },
  {
   "cell_type": "markdown",
   "metadata": {},
   "source": [
    "### Online Resource"
   ]
  },
  {
   "cell_type": "code",
   "execution_count": 3,
   "metadata": {
    "scrolled": true
   },
   "outputs": [
    {
     "name": "stdout",
     "output_type": "stream",
     "text": [
      "{\n",
      "    \"success\": {\n",
      "        \"total\": 1\n",
      "    },\n",
      "    \"contents\": {\n",
      "        \"quotes\": [\n",
      "            {\n",
      "                \"quote\": \"Do the best you can until you know better. Then when you know better, do better.\",\n",
      "                \"length\": \"80\",\n",
      "                \"author\": \"Maya Angelou\",\n",
      "                \"tags\": [\n",
      "                    \"inspire\",\n",
      "                    \"wisdom\"\n",
      "                ],\n",
      "                \"category\": \"inspire\",\n",
      "                \"language\": \"en\",\n",
      "                \"date\": \"2021-04-09\",\n",
      "                \"permalink\": \"https://theysaidso.com/quote/maya-angelou-do-the-best-you-can-until-you-know-better-then-when-you-know-better\",\n",
      "                \"id\": \"B27anrMZFJFeMsJyTvRkrweF\",\n",
      "                \"background\": \"https://theysaidso.com/img/qod/qod-inspire.jpg\",\n",
      "                \"title\": \"Inspiring Quote of the day\"\n",
      "            }\n",
      "        ]\n",
      "    },\n",
      "    \"baseurl\": \"https://theysaidso.com\",\n",
      "    \"copyright\": {\n",
      "        \"year\": 2023,\n",
      "        \"url\": \"https://theysaidso.com\"\n",
      "    }\n",
      "}\n",
      "Do the best you can until you know better. Then when you know better, do better. \n",
      "-- Maya Angelou\n"
     ]
    }
   ],
   "source": [
    "import requests\n",
    "import json\n",
    "\n",
    "# Fetch data from a REST API\n",
    "r = requests.get(\n",
    "    \"https://quotes.rest/qod.json\")\n",
    "res = r.json()\n",
    "print(json.dumps(res, indent=4))\n",
    "\n",
    "# Extract relevant object and field\n",
    "q = res[\"contents\"][\"quotes\"][0]\n",
    "print(q[\"quote\"], \"\\n--\", q[\"author\"])"
   ]
  },
  {
   "cell_type": "markdown",
   "metadata": {},
   "source": [
    "## Cleaning"
   ]
  },
  {
   "cell_type": "code",
   "execution_count": 4,
   "metadata": {
    "scrolled": true
   },
   "outputs": [
    {
     "name": "stdout",
     "output_type": "stream",
     "text": [
      "<html lang=\"en\" op=\"news\"><head><meta name=\"referrer\" content=\"origin\"><meta name=\"viewport\" content=\"width=device-width, initial-scale=1.0\"><link rel=\"stylesheet\" type=\"text/css\" href=\"news.css?kYAZqEBDkZ1yesLxUECv\">\n",
      "        <link rel=\"shortcut icon\" href=\"favicon.ico\">\n",
      "          <link rel=\"alternate\" type=\"application/rss+xml\" title=\"RSS\" href=\"rss\">\n",
      "        <title>Hacker News</title></head><body><center><table id=\"hnmain\" border=\"0\" cellpadding=\"0\" cellspacing=\"0\" width=\"85%\" bgcolor=\"#f6f6ef\">\n",
      "        <tr><td bgcolor=\"#ff6600\"><table border=\"0\" cellpadding=\"0\" cellspacing=\"0\" width=\"100%\" style=\"padding:2px\"><tr><td style=\"width:18px;padding-right:4px\"><a href=\"https://news.ycombinator.com\"><img src=\"y18.gif\" width=\"18\" height=\"18\" style=\"border:1px white solid;\"></a></td>\n",
      "                  <td style=\"line-height:12pt; height:10px;\"><span class=\"pagetop\"><b class=\"hnname\"><a href=\"news\">Hacker News</a></b>\n",
      "              <a href=\"newest\">new</a> | <a href=\"front\">past</a> | <a href=\"newcomments\">comments</a> | <a href=\"ask\">ask</a> | <a href=\"show\">show</a> | <a href=\"jobs\">jobs</a> | <a href=\"submit\">submit</a>            </span></td><td style=\"text-align:right;padding-right:4px;\"><span class=\"pagetop\">\n",
      "                              <a href=\"login?goto=news\">login</a>\n",
      "                          </span></td>\n",
      "              </tr></table></td></tr>\n",
      "<tr id=\"pagespace\" title=\"\" style=\"height:10px\"></tr><tr><td><table border=\"0\" cellpadding=\"0\" cellspacing=\"0\" class=\"itemlist\">\n",
      "              <tr class='athing' id='26749021'>\n",
      "      <td align=\"right\" valign=\"top\" class=\"title\"><span class=\"rank\">1.</span></td>      <td valign=\"top\" class=\"votelinks\"><center><a id='up_26749021' href='vote?id=26749021&amp;how=up&amp;goto=news'><div class='votearrow' title='upvote'></div></a></center></td><td class=\"title\"><a href=\"https://www.bbc.com/news/uk-11437314\" class=\"storylink\">Prince Philip has died aged 99, Buckingham Palace announces</a><span class=\"sitebit comhead\"> (<a href=\"from?site=bbc.com\"><span class=\"sitestr\">bbc.com</span></a>)</span></td></tr><tr><td colspan=\"2\"></td><td class=\"subtext\">\n",
      "        <span class=\"score\" id=\"score_26749021\">45 points</span> by <a href=\"user?id=longdefeat\" class=\"hnuser\">longdefeat</a> <span class=\"age\"><a href=\"item?id=26749021\">10 minutes ago</a></span> <span id=\"unv_26749021\"></span> | <a href=\"hide?id=26749021&amp;goto=news\">hide</a> | <a href=\"item?id=26749021\">6&nbsp;comments</a>              </td></tr>\n",
      "      <tr class=\"spacer\" style=\"height:5px\"></tr>\n",
      "                <tr class='athing' id='26748696'>\n",
      "      <td align=\"right\" valign=\"top\" class=\"title\"><span class=\"rank\">2.</span></td>      <td valign=\"top\" class=\"votelinks\"><center><a id='up_26748696' href='vote?id=26748696&amp;how=up&amp;goto=news'><div class='votearrow' title='upvote'></div></a></center></td><td class=\"title\"><a href=\"https://tech.channable.com/posts/2021-04-09-nix-is-the-ultimate-devops-toolkit.html\" class=\"storylink\">Nix is the ultimate DevOps toolkit</a><span class=\"sitebit comhead\"> (<a href=\"from?site=channable.com\"><span class=\"sitestr\">channable.com</span></a>)</span></td></tr><tr><td colspan=\"2\"></td><td class=\"subtext\">\n",
      "        <span class=\"score\" id=\"score_26748696\">78 points</span> by <a href=\"user?id=rkrzr\" class=\"hnuser\">rkrzr</a> <span class=\"age\"><a href=\"item?id=26748696\">1 hour ago</a></span> <span id=\"unv_26748696\"></span> | <a href=\"hide?id=26748696&amp;goto=news\">hide</a> | <a href=\"item?id=26748696\">12&nbsp;comments</a>              </td></tr>\n",
      "      <tr class=\"spacer\" style=\"height:5px\"></tr>\n",
      "                <tr class='athing' id='26746983'>\n",
      "      <td align=\"right\" valign=\"top\" class=\"title\"><span class=\"rank\">3.</span></td>      <td valign=\"top\" class=\"votelinks\"><center><a id='up_26746983' href='vote?id=26746983&amp;how=up&amp;goto=news'><div class='votearrow' title='upvote'></div></a></center></td><td class=\"title\"><a href=\"https://git.kernel.org/pub/scm/linux/kernel/git/soc/soc.git/commit/?h=for-next&amp;id=0d5fe4b31785b732b71e764b55cda5c8d6e3bbbf\" class=\"storylink\">Initial M1 support merged into Linux SoC tree</a><span class=\"sitebit comhead\"> (<a href=\"from?site=kernel.org\"><span class=\"sitestr\">kernel.org</span></a>)</span></td></tr><tr><td colspan=\"2\"></td><td class=\"subtext\">\n",
      "        <span class=\"score\" id=\"score_26746983\">322 points</span> by <a href=\"user?id=joseluisq\" class=\"hnuser\">joseluisq</a> <span class=\"age\"><a href=\"item?id=26746983\">6 hours ago</a></span> <span id=\"unv_26746983\"></span> | <a href=\"hide?id=26746983&amp;goto=news\">hide</a> | <a href=\"item?id=26746983\">202&nbsp;comments</a>              </td></tr>\n",
      "      <tr class=\"spacer\" style=\"height:5px\"></tr>\n",
      "                <tr class='athing' id='26748592'>\n",
      "      <td align=\"right\" valign=\"top\" class=\"title\"><span class=\"rank\">4.</span></td>      <td valign=\"top\" class=\"votelinks\"><center><a id='up_26748592' href='vote?id=26748592&amp;how=up&amp;goto=news'><div class='votearrow' title='upvote'></div></a></center></td><td class=\"title\"><a href=\"https://www.bbc.co.uk/news/56660823\" class=\"storylink\">Is Netflix's Seaspiracy film right about fishing damaging oceans?</a><span class=\"sitebit comhead\"> (<a href=\"from?site=bbc.co.uk\"><span class=\"sitestr\">bbc.co.uk</span></a>)</span></td></tr><tr><td colspan=\"2\"></td><td class=\"subtext\">\n",
      "        <span class=\"score\" id=\"score_26748592\">28 points</span> by <a href=\"user?id=bananapear\" class=\"hnuser\">bananapear</a> <span class=\"age\"><a href=\"item?id=26748592\">1 hour ago</a></span> <span id=\"unv_26748592\"></span> | <a href=\"hide?id=26748592&amp;goto=news\">hide</a> | <a href=\"item?id=26748592\">19&nbsp;comments</a>              </td></tr>\n",
      "      <tr class=\"spacer\" style=\"height:5px\"></tr>\n",
      "                <tr class='athing' id='26748528'>\n",
      "      <td align=\"right\" valign=\"top\" class=\"title\"><span class=\"rank\">5.</span></td>      <td valign=\"top\" class=\"votelinks\"><center><a id='up_26748528' href='vote?id=26748528&amp;how=up&amp;goto=news'><div class='votearrow' title='upvote'></div></a></center></td><td class=\"title\"><a href=\"https://stefano.brilli.me/blog/web-minidisc/\" class=\"storylink\">The Web MiniDisc App: Bringing Back to Life the MiniDisc with WebUSB and WASM</a><span class=\"sitebit comhead\"> (<a href=\"from?site=brilli.me\"><span class=\"sitestr\">brilli.me</span></a>)</span></td></tr><tr><td colspan=\"2\"></td><td class=\"subtext\">\n",
      "        <span class=\"score\" id=\"score_26748528\">26 points</span> by <a href=\"user?id=mocko\" class=\"hnuser\">mocko</a> <span class=\"age\"><a href=\"item?id=26748528\">1 hour ago</a></span> <span id=\"unv_26748528\"></span> | <a href=\"hide?id=26748528&amp;goto=news\">hide</a> | <a href=\"item?id=26748528\">8&nbsp;comments</a>              </td></tr>\n",
      "      <tr class=\"spacer\" style=\"height:5px\"></tr>\n",
      "                <tr class='athing' id='26746280'>\n",
      "      <td align=\"right\" valign=\"top\" class=\"title\"><span class=\"rank\">6.</span></td>      <td valign=\"top\" class=\"votelinks\"><center><a id='up_26746280' href='vote?id=26746280&amp;how=up&amp;goto=news'><div class='votearrow' title='upvote'></div></a></center></td><td class=\"title\"><a href=\"https://fly.io/blog/docker-without-docker/\" class=\"storylink\">Docker without Docker</a><span class=\"sitebit comhead\"> (<a href=\"from?site=fly.io\"><span class=\"sitestr\">fly.io</span></a>)</span></td></tr><tr><td colspan=\"2\"></td><td class=\"subtext\">\n",
      "        <span class=\"score\" id=\"score_26746280\">400 points</span> by <a href=\"user?id=kwindla\" class=\"hnuser\">kwindla</a> <span class=\"age\"><a href=\"item?id=26746280\">8 hours ago</a></span> <span id=\"unv_26746280\"></span> | <a href=\"hide?id=26746280&amp;goto=news\">hide</a> | <a href=\"item?id=26746280\">95&nbsp;comments</a>              </td></tr>\n",
      "      <tr class=\"spacer\" style=\"height:5px\"></tr>\n",
      "                <tr class='athing' id='26745227'>\n",
      "      <td align=\"right\" valign=\"top\" class=\"title\"><span class=\"rank\">7.</span></td>      <td valign=\"top\" class=\"votelinks\"><center><a id='up_26745227' href='vote?id=26745227&amp;how=up&amp;goto=news'><div class='votearrow' title='upvote'></div></a></center></td><td class=\"title\"><a href=\"https://neuralink.com/blog/\" class=\"storylink\">Monkey MindPong</a><span class=\"sitebit comhead\"> (<a href=\"from?site=neuralink.com\"><span class=\"sitestr\">neuralink.com</span></a>)</span></td></tr><tr><td colspan=\"2\"></td><td class=\"subtext\">\n",
      "        <span class=\"score\" id=\"score_26745227\">466 points</span> by <a href=\"user?id=ag8\" class=\"hnuser\">ag8</a> <span class=\"age\"><a href=\"item?id=26745227\">11 hours ago</a></span> <span id=\"unv_26745227\"></span> | <a href=\"hide?id=26745227&amp;goto=news\">hide</a> | <a href=\"item?id=26745227\">184&nbsp;comments</a>              </td></tr>\n",
      "      <tr class=\"spacer\" style=\"height:5px\"></tr>\n",
      "                <tr class='athing' id='26747384'>\n",
      "      <td align=\"right\" valign=\"top\" class=\"title\"><span class=\"rank\">8.</span></td>      <td valign=\"top\" class=\"votelinks\"><center><a id='up_26747384' href='vote?id=26747384&amp;how=up&amp;goto=news'><div class='votearrow' title='upvote'></div></a></center></td><td class=\"title\"><a href=\"https://zserge.com/posts/bfaas/\" class=\"storylink\">Scalable, Resilient Brainfuck as a service</a><span class=\"sitebit comhead\"> (<a href=\"from?site=zserge.com\"><span class=\"sitestr\">zserge.com</span></a>)</span></td></tr><tr><td colspan=\"2\"></td><td class=\"subtext\">\n",
      "        <span class=\"score\" id=\"score_26747384\">70 points</span> by <a href=\"user?id=stevekemp\" class=\"hnuser\">stevekemp</a> <span class=\"age\"><a href=\"item?id=26747384\">4 hours ago</a></span> <span id=\"unv_26747384\"></span> | <a href=\"hide?id=26747384&amp;goto=news\">hide</a> | <a href=\"item?id=26747384\">13&nbsp;comments</a>              </td></tr>\n",
      "      <tr class=\"spacer\" style=\"height:5px\"></tr>\n",
      "                <tr class='athing' id='26748763'>\n",
      "      <td align=\"right\" valign=\"top\" class=\"title\"><span class=\"rank\">9.</span></td>      <td valign=\"top\" class=\"votelinks\"><center><a id='up_26748763' href='vote?id=26748763&amp;how=up&amp;goto=news'><div class='votearrow' title='upvote'></div></a></center></td><td class=\"title\"><a href=\"https://www.bloomberg.com/news/articles/2021-03-04/in-one-year-a-billion-tons-of-food-got-wasted-mostly-at-home\" class=\"storylink\">Food waste responsible for 10% of global emissions</a><span class=\"sitebit comhead\"> (<a href=\"from?site=bloomberg.com\"><span class=\"sitestr\">bloomberg.com</span></a>)</span></td></tr><tr><td colspan=\"2\"></td><td class=\"subtext\">\n",
      "        <span class=\"score\" id=\"score_26748763\">24 points</span> by <a href=\"user?id=cwwc\" class=\"hnuser\">cwwc</a> <span class=\"age\"><a href=\"item?id=26748763\">52 minutes ago</a></span> <span id=\"unv_26748763\"></span> | <a href=\"hide?id=26748763&amp;goto=news\">hide</a> | <a href=\"item?id=26748763\">7&nbsp;comments</a>              </td></tr>\n",
      "      <tr class=\"spacer\" style=\"height:5px\"></tr>\n",
      "                <tr class='athing' id='26748309'>\n",
      "      <td align=\"right\" valign=\"top\" class=\"title\"><span class=\"rank\">10.</span></td>      <td valign=\"top\" class=\"votelinks\"><center><a id='up_26748309' href='vote?id=26748309&amp;how=up&amp;goto=news'><div class='votearrow' title='upvote'></div></a></center></td><td class=\"title\"><a href=\"https://david-haber.github.io/posts/the-right-stuff/\" class=\"storylink\">They Write the Right Stuff (2021)</a><span class=\"sitebit comhead\"> (<a href=\"from?site=david-haber.github.io\"><span class=\"sitestr\">david-haber.github.io</span></a>)</span></td></tr><tr><td colspan=\"2\"></td><td class=\"subtext\">\n",
      "        <span class=\"score\" id=\"score_26748309\">26 points</span> by <a href=\"user?id=dh00608000\" class=\"hnuser\">dh00608000</a> <span class=\"age\"><a href=\"item?id=26748309\">2 hours ago</a></span> <span id=\"unv_26748309\"></span> | <a href=\"hide?id=26748309&amp;goto=news\">hide</a> | <a href=\"item?id=26748309\">13&nbsp;comments</a>              </td></tr>\n",
      "      <tr class=\"spacer\" style=\"height:5px\"></tr>\n",
      "                <tr class='athing' id='26746687'>\n",
      "      <td align=\"right\" valign=\"top\" class=\"title\"><span class=\"rank\">11.</span></td>      <td valign=\"top\" class=\"votelinks\"><center><a id='up_26746687' href='vote?id=26746687&amp;how=up&amp;goto=news'><div class='votearrow' title='upvote'></div></a></center></td><td class=\"title\"><a href=\"https://www.math.columbia.edu/~woit/wordpress/?p=12235\" class=\"storylink\">Hawking Hawking</a><span class=\"sitebit comhead\"> (<a href=\"from?site=columbia.edu\"><span class=\"sitestr\">columbia.edu</span></a>)</span></td></tr><tr><td colspan=\"2\"></td><td class=\"subtext\">\n",
      "        <span class=\"score\" id=\"score_26746687\">70 points</span> by <a href=\"user?id=chmaynard\" class=\"hnuser\">chmaynard</a> <span class=\"age\"><a href=\"item?id=26746687\">6 hours ago</a></span> <span id=\"unv_26746687\"></span> | <a href=\"hide?id=26746687&amp;goto=news\">hide</a> | <a href=\"item?id=26746687\">35&nbsp;comments</a>              </td></tr>\n",
      "      <tr class=\"spacer\" style=\"height:5px\"></tr>\n",
      "                <tr class='athing' id='26743704'>\n",
      "      <td align=\"right\" valign=\"top\" class=\"title\"><span class=\"rank\">12.</span></td>      <td valign=\"top\" class=\"votelinks\"><center><a id='up_26743704' href='vote?id=26743704&amp;how=up&amp;goto=news'><div class='votearrow' title='upvote'></div></a></center></td><td class=\"title\"><a href=\"https://github.com/you-dont-need/You-Dont-Need-GUI\" class=\"storylink\">You Don't Need a GUI</a><span class=\"sitebit comhead\"> (<a href=\"from?site=github.com/you-dont-need\"><span class=\"sitestr\">github.com/you-dont-need</span></a>)</span></td></tr><tr><td colspan=\"2\"></td><td class=\"subtext\">\n",
      "        <span class=\"score\" id=\"score_26743704\">278 points</span> by <a href=\"user?id=loige\" class=\"hnuser\">loige</a> <span class=\"age\"><a href=\"item?id=26743704\">14 hours ago</a></span> <span id=\"unv_26743704\"></span> | <a href=\"hide?id=26743704&amp;goto=news\">hide</a> | <a href=\"item?id=26743704\">296&nbsp;comments</a>              </td></tr>\n",
      "      <tr class=\"spacer\" style=\"height:5px\"></tr>\n",
      "                <tr class='athing' id='26746537'>\n",
      "      <td align=\"right\" valign=\"top\" class=\"title\"><span class=\"rank\">13.</span></td>      <td valign=\"top\" class=\"votelinks\"><center><a id='up_26746537' href='vote?id=26746537&amp;how=up&amp;goto=news'><div class='votearrow' title='upvote'></div></a></center></td><td class=\"title\"><a href=\"http://ffmpeg.org/index.html#pr4.4\" class=\"storylink\">FFmpeg 4.4</a><span class=\"sitebit comhead\"> (<a href=\"from?site=ffmpeg.org\"><span class=\"sitestr\">ffmpeg.org</span></a>)</span></td></tr><tr><td colspan=\"2\"></td><td class=\"subtext\">\n",
      "        <span class=\"score\" id=\"score_26746537\">195 points</span> by <a href=\"user?id=_Gyan_\" class=\"hnuser\">_Gyan_</a> <span class=\"age\"><a href=\"item?id=26746537\">7 hours ago</a></span> <span id=\"unv_26746537\"></span> | <a href=\"hide?id=26746537&amp;goto=news\">hide</a> | <a href=\"item?id=26746537\">53&nbsp;comments</a>              </td></tr>\n",
      "      <tr class=\"spacer\" style=\"height:5px\"></tr>\n",
      "                <tr class='athing' id='26746674'>\n",
      "      <td align=\"right\" valign=\"top\" class=\"title\"><span class=\"rank\">14.</span></td>      <td valign=\"top\" class=\"votelinks\"><center><a id='up_26746674' href='vote?id=26746674&amp;how=up&amp;goto=news'><div class='votearrow' title='upvote'></div></a></center></td><td class=\"title\"><a href=\"https://github.com/openbsd/src/blob/c1d6f13173b788e34852a303bda0c5a53861979e/sys/sys/tree.h\" class=\"storylink\">Tree.h in OpenBSD: dependency-free intrusive binary tree (2002)</a><span class=\"sitebit comhead\"> (<a href=\"from?site=github.com/openbsd\"><span class=\"sitestr\">github.com/openbsd</span></a>)</span></td></tr><tr><td colspan=\"2\"></td><td class=\"subtext\">\n",
      "        <span class=\"score\" id=\"score_26746674\">63 points</span> by <a href=\"user?id=attractivechaos\" class=\"hnuser\">attractivechaos</a> <span class=\"age\"><a href=\"item?id=26746674\">7 hours ago</a></span> <span id=\"unv_26746674\"></span> | <a href=\"hide?id=26746674&amp;goto=news\">hide</a> | <a href=\"item?id=26746674\">17&nbsp;comments</a>              </td></tr>\n",
      "      <tr class=\"spacer\" style=\"height:5px\"></tr>\n",
      "                <tr class='athing' id='26747481'>\n",
      "      <td align=\"right\" valign=\"top\" class=\"title\"><span class=\"rank\">15.</span></td>      <td></td><td class=\"title\"><a href=\"https://www.notion.so/jupiterhome/Full-Stack-Software-Engineer-Product-9997a862394d48e4b8db702b859141e2\" class=\"storylink\" rel=\"nofollow\">Jupiter (YC S19), hyperpersonalized grocery from 2050, hiring product-minded SWE</a><span class=\"sitebit comhead\"> (<a href=\"from?site=notion.so\"><span class=\"sitestr\">notion.so</span></a>)</span></td></tr><tr><td colspan=\"2\"></td><td class=\"subtext\">\n",
      "        <span class=\"age\"><a href=\"item?id=26747481\">4 hours ago</a></span> | <a href=\"hide?id=26747481&amp;goto=news\">hide</a>      </td></tr>\n",
      "      <tr class=\"spacer\" style=\"height:5px\"></tr>\n",
      "                <tr class='athing' id='26745326'>\n",
      "      <td align=\"right\" valign=\"top\" class=\"title\"><span class=\"rank\">16.</span></td>      <td valign=\"top\" class=\"votelinks\"><center><a id='up_26745326' href='vote?id=26745326&amp;how=up&amp;goto=news'><div class='votearrow' title='upvote'></div></a></center></td><td class=\"title\"><a href=\"https://techxplore.com/news/2021-04-rice-intel-optimize-ai-commodity.html\" class=\"storylink\">CPU-based algorithm trains deep neural nets up to 15 times faster than top GPU</a><span class=\"sitebit comhead\"> (<a href=\"from?site=techxplore.com\"><span class=\"sitestr\">techxplore.com</span></a>)</span></td></tr><tr><td colspan=\"2\"></td><td class=\"subtext\">\n",
      "        <span class=\"score\" id=\"score_26745326\">346 points</span> by <a href=\"user?id=gumby\" class=\"hnuser\">gumby</a> <span class=\"age\"><a href=\"item?id=26745326\">11 hours ago</a></span> <span id=\"unv_26745326\"></span> | <a href=\"hide?id=26745326&amp;goto=news\">hide</a> | <a href=\"item?id=26745326\">118&nbsp;comments</a>              </td></tr>\n",
      "      <tr class=\"spacer\" style=\"height:5px\"></tr>\n",
      "                <tr class='athing' id='26745892'>\n",
      "      <td align=\"right\" valign=\"top\" class=\"title\"><span class=\"rank\">17.</span></td>      <td valign=\"top\" class=\"votelinks\"><center><a id='up_26745892' href='vote?id=26745892&amp;how=up&amp;goto=news'><div class='votearrow' title='upvote'></div></a></center></td><td class=\"title\"><a href=\"https://www.scientificamerican.com/article/how-a-carnivorous-mushroom-poisons-its-prey/\" class=\"storylink\">How a carnivorous mushroom poisons its prey</a><span class=\"sitebit comhead\"> (<a href=\"from?site=scientificamerican.com\"><span class=\"sitestr\">scientificamerican.com</span></a>)</span></td></tr><tr><td colspan=\"2\"></td><td class=\"subtext\">\n",
      "        <span class=\"score\" id=\"score_26745892\">90 points</span> by <a href=\"user?id=sohkamyung\" class=\"hnuser\">sohkamyung</a> <span class=\"age\"><a href=\"item?id=26745892\">9 hours ago</a></span> <span id=\"unv_26745892\"></span> | <a href=\"hide?id=26745892&amp;goto=news\">hide</a> | <a href=\"item?id=26745892\">20&nbsp;comments</a>              </td></tr>\n",
      "      <tr class=\"spacer\" style=\"height:5px\"></tr>\n",
      "                <tr class='athing' id='26722960'>\n",
      "      <td align=\"right\" valign=\"top\" class=\"title\"><span class=\"rank\">18.</span></td>      <td valign=\"top\" class=\"votelinks\"><center><a id='up_26722960' href='vote?id=26722960&amp;how=up&amp;goto=news'><div class='votearrow' title='upvote'></div></a></center></td><td class=\"title\"><a href=\"https://bilalonureskili.com/files/LTC_en.pdf\" class=\"storylink\">Lossless Text Compression [pdf]</a><span class=\"sitebit comhead\"> (<a href=\"from?site=bilalonureskili.com\"><span class=\"sitestr\">bilalonureskili.com</span></a>)</span></td></tr><tr><td colspan=\"2\"></td><td class=\"subtext\">\n",
      "        <span class=\"score\" id=\"score_26722960\">51 points</span> by <a href=\"user?id=kronxe\" class=\"hnuser\">kronxe</a> <span class=\"age\"><a href=\"item?id=26722960\">9 hours ago</a></span> <span id=\"unv_26722960\"></span> | <a href=\"hide?id=26722960&amp;goto=news\">hide</a> | <a href=\"item?id=26722960\">23&nbsp;comments</a>              </td></tr>\n",
      "      <tr class=\"spacer\" style=\"height:5px\"></tr>\n",
      "                <tr class='athing' id='26735300'>\n",
      "      <td align=\"right\" valign=\"top\" class=\"title\"><span class=\"rank\">19.</span></td>      <td valign=\"top\" class=\"votelinks\"><center><a id='up_26735300' href='vote?id=26735300&amp;how=up&amp;goto=news'><div class='votearrow' title='upvote'></div></a></center></td><td class=\"title\"><a href=\"https://github.com/vdaas/vald\" class=\"storylink\">Vald: A Highly Scalable Distributed Vector Search Engine</a><span class=\"sitebit comhead\"> (<a href=\"from?site=github.com/vdaas\"><span class=\"sitestr\">github.com/vdaas</span></a>)</span></td></tr><tr><td colspan=\"2\"></td><td class=\"subtext\">\n",
      "        <span class=\"score\" id=\"score_26735300\">75 points</span> by <a href=\"user?id=ngaut\" class=\"hnuser\">ngaut</a> <span class=\"age\"><a href=\"item?id=26735300\">11 hours ago</a></span> <span id=\"unv_26735300\"></span> | <a href=\"hide?id=26735300&amp;goto=news\">hide</a> | <a href=\"item?id=26735300\">22&nbsp;comments</a>              </td></tr>\n",
      "      <tr class=\"spacer\" style=\"height:5px\"></tr>\n",
      "                <tr class='athing' id='26739501'>\n",
      "      <td align=\"right\" valign=\"top\" class=\"title\"><span class=\"rank\">20.</span></td>      <td valign=\"top\" class=\"votelinks\"><center><a id='up_26739501' href='vote?id=26739501&amp;how=up&amp;goto=news'><div class='votearrow' title='upvote'></div></a></center></td><td class=\"title\"><a href=\"https://notes.srid.ca/fsharp-exploration\" class=\"storylink\">A Brief F# Exploration</a><span class=\"sitebit comhead\"> (<a href=\"from?site=srid.ca\"><span class=\"sitestr\">srid.ca</span></a>)</span></td></tr><tr><td colspan=\"2\"></td><td class=\"subtext\">\n",
      "        <span class=\"score\" id=\"score_26739501\">71 points</span> by <a href=\"user?id=todsacerdoti\" class=\"hnuser\">todsacerdoti</a> <span class=\"age\"><a href=\"item?id=26739501\">10 hours ago</a></span> <span id=\"unv_26739501\"></span> | <a href=\"hide?id=26739501&amp;goto=news\">hide</a> | <a href=\"item?id=26739501\">24&nbsp;comments</a>              </td></tr>\n",
      "      <tr class=\"spacer\" style=\"height:5px\"></tr>\n",
      "                <tr class='athing' id='26747715'>\n",
      "      <td align=\"right\" valign=\"top\" class=\"title\"><span class=\"rank\">21.</span></td>      <td valign=\"top\" class=\"votelinks\"><center><a id='up_26747715' href='vote?id=26747715&amp;how=up&amp;goto=news'><div class='votearrow' title='upvote'></div></a></center></td><td class=\"title\"><a href=\"https://www.theregister.com/2021/04/08/w3c_google_multple_domains/\" class=\"storylink\">W3C slaps down Google's proposal to treat multiple domains as same origin</a><span class=\"sitebit comhead\"> (<a href=\"from?site=theregister.com\"><span class=\"sitestr\">theregister.com</span></a>)</span></td></tr><tr><td colspan=\"2\"></td><td class=\"subtext\">\n",
      "        <span class=\"score\" id=\"score_26747715\">65 points</span> by <a href=\"user?id=kiyanwang\" class=\"hnuser\">kiyanwang</a> <span class=\"age\"><a href=\"item?id=26747715\">3 hours ago</a></span> <span id=\"unv_26747715\"></span> | <a href=\"hide?id=26747715&amp;goto=news\">hide</a> | <a href=\"item?id=26747715\">29&nbsp;comments</a>              </td></tr>\n",
      "      <tr class=\"spacer\" style=\"height:5px\"></tr>\n",
      "                <tr class='athing' id='26730787'>\n",
      "      <td align=\"right\" valign=\"top\" class=\"title\"><span class=\"rank\">22.</span></td>      <td valign=\"top\" class=\"votelinks\"><center><a id='up_26730787' href='vote?id=26730787&amp;how=up&amp;goto=news'><div class='votearrow' title='upvote'></div></a></center></td><td class=\"title\"><a href=\"https://www.pnas.org/content/118/14/e2025739118\" class=\"storylink\">Deep genetic affinity between coastal Pacific and Amazonian natives</a><span class=\"sitebit comhead\"> (<a href=\"from?site=pnas.org\"><span class=\"sitestr\">pnas.org</span></a>)</span></td></tr><tr><td colspan=\"2\"></td><td class=\"subtext\">\n",
      "        <span class=\"score\" id=\"score_26730787\">70 points</span> by <a href=\"user?id=Thevet\" class=\"hnuser\">Thevet</a> <span class=\"age\"><a href=\"item?id=26730787\">13 hours ago</a></span> <span id=\"unv_26730787\"></span> | <a href=\"hide?id=26730787&amp;goto=news\">hide</a> | <a href=\"item?id=26730787\">23&nbsp;comments</a>              </td></tr>\n",
      "      <tr class=\"spacer\" style=\"height:5px\"></tr>\n",
      "                <tr class='athing' id='26737771'>\n",
      "      <td align=\"right\" valign=\"top\" class=\"title\"><span class=\"rank\">23.</span></td>      <td valign=\"top\" class=\"votelinks\"><center><a id='up_26737771' href='vote?id=26737771&amp;how=up&amp;goto=news'><div class='votearrow' title='upvote'></div></a></center></td><td class=\"title\"><a href=\"https://anthonynsimon.com/blog/one-man-saas-architecture/\" class=\"storylink\">The architecture behind a one-person tech startup</a><span class=\"sitebit comhead\"> (<a href=\"from?site=anthonynsimon.com\"><span class=\"sitestr\">anthonynsimon.com</span></a>)</span></td></tr><tr><td colspan=\"2\"></td><td class=\"subtext\">\n",
      "        <span class=\"score\" id=\"score_26737771\">1135 points</span> by <a href=\"user?id=ksahin\" class=\"hnuser\">ksahin</a> <span class=\"age\"><a href=\"item?id=26737771\">23 hours ago</a></span> <span id=\"unv_26737771\"></span> | <a href=\"hide?id=26737771&amp;goto=news\">hide</a> | <a href=\"item?id=26737771\">280&nbsp;comments</a>              </td></tr>\n",
      "      <tr class=\"spacer\" style=\"height:5px\"></tr>\n",
      "                <tr class='athing' id='26735187'>\n",
      "      <td align=\"right\" valign=\"top\" class=\"title\"><span class=\"rank\">24.</span></td>      <td valign=\"top\" class=\"votelinks\"><center><a id='up_26735187' href='vote?id=26735187&amp;how=up&amp;goto=news'><div class='votearrow' title='upvote'></div></a></center></td><td class=\"title\"><a href=\"http://kylehalladay.com/blog/2020/05/20/Hooking-Input-Snake-In-Notepad.html\" class=\"storylink\">Hooking keyboard input to play Snake in Notepad.exe (2020)</a><span class=\"sitebit comhead\"> (<a href=\"from?site=kylehalladay.com\"><span class=\"sitestr\">kylehalladay.com</span></a>)</span></td></tr><tr><td colspan=\"2\"></td><td class=\"subtext\">\n",
      "        <span class=\"score\" id=\"score_26735187\">67 points</span> by <a href=\"user?id=pcr910303\" class=\"hnuser\">pcr910303</a> <span class=\"age\"><a href=\"item?id=26735187\">11 hours ago</a></span> <span id=\"unv_26735187\"></span> | <a href=\"hide?id=26735187&amp;goto=news\">hide</a> | <a href=\"item?id=26735187\">9&nbsp;comments</a>              </td></tr>\n",
      "      <tr class=\"spacer\" style=\"height:5px\"></tr>\n",
      "                <tr class='athing' id='26744519'>\n",
      "      <td align=\"right\" valign=\"top\" class=\"title\"><span class=\"rank\">25.</span></td>      <td valign=\"top\" class=\"votelinks\"><center><a id='up_26744519' href='vote?id=26744519&amp;how=up&amp;goto=news'><div class='votearrow' title='upvote'></div></a></center></td><td class=\"title\"><a href=\"https://blog.djmnet.org/2019/08/02/why-do-long-options-start-with/\" class=\"storylink\">Why do long options start with two dashes? (2019)</a><span class=\"sitebit comhead\"> (<a href=\"from?site=djmnet.org\"><span class=\"sitestr\">djmnet.org</span></a>)</span></td></tr><tr><td colspan=\"2\"></td><td class=\"subtext\">\n",
      "        <span class=\"score\" id=\"score_26744519\">293 points</span> by <a href=\"user?id=spyh\" class=\"hnuser\">spyh</a> <span class=\"age\"><a href=\"item?id=26744519\">13 hours ago</a></span> <span id=\"unv_26744519\"></span> | <a href=\"hide?id=26744519&amp;goto=news\">hide</a> | <a href=\"item?id=26744519\">201&nbsp;comments</a>              </td></tr>\n",
      "      <tr class=\"spacer\" style=\"height:5px\"></tr>\n",
      "                <tr class='athing' id='26726449'>\n",
      "      <td align=\"right\" valign=\"top\" class=\"title\"><span class=\"rank\">26.</span></td>      <td valign=\"top\" class=\"votelinks\"><center><a id='up_26726449' href='vote?id=26726449&amp;how=up&amp;goto=news'><div class='votearrow' title='upvote'></div></a></center></td><td class=\"title\"><a href=\"https://ericlathrop.com/2021/04/idempotence-now-prevents-pain-later/\" class=\"storylink\">Idempotence now prevents pain later</a><span class=\"sitebit comhead\"> (<a href=\"from?site=ericlathrop.com\"><span class=\"sitestr\">ericlathrop.com</span></a>)</span></td></tr><tr><td colspan=\"2\"></td><td class=\"subtext\">\n",
      "        <span class=\"score\" id=\"score_26726449\">334 points</span> by <a href=\"user?id=zdw\" class=\"hnuser\">zdw</a> <span class=\"age\"><a href=\"item?id=26726449\">16 hours ago</a></span> <span id=\"unv_26726449\"></span> | <a href=\"hide?id=26726449&amp;goto=news\">hide</a> | <a href=\"item?id=26726449\">109&nbsp;comments</a>              </td></tr>\n",
      "      <tr class=\"spacer\" style=\"height:5px\"></tr>\n",
      "                <tr class='athing' id='26746216'>\n",
      "      <td align=\"right\" valign=\"top\" class=\"title\"><span class=\"rank\">27.</span></td>      <td valign=\"top\" class=\"votelinks\"><center><a id='up_26746216' href='vote?id=26746216&amp;how=up&amp;goto=news'><div class='votearrow' title='upvote'></div></a></center></td><td class=\"title\"><a href=\"https://asia.nikkei.com/Spotlight/Caixin/Huawei-deactivates-AI-and-cloud-business-group-in-restructuring\" class=\"storylink\">Huawei deactivates AI and cloud business group in restructuring</a><span class=\"sitebit comhead\"> (<a href=\"from?site=nikkei.com\"><span class=\"sitestr\">nikkei.com</span></a>)</span></td></tr><tr><td colspan=\"2\"></td><td class=\"subtext\">\n",
      "        <span class=\"score\" id=\"score_26746216\">23 points</span> by <a href=\"user?id=shirkey\" class=\"hnuser\">shirkey</a> <span class=\"age\"><a href=\"item?id=26746216\">8 hours ago</a></span> <span id=\"unv_26746216\"></span> | <a href=\"hide?id=26746216&amp;goto=news\">hide</a> | <a href=\"item?id=26746216\">21&nbsp;comments</a>              </td></tr>\n",
      "      <tr class=\"spacer\" style=\"height:5px\"></tr>\n",
      "                <tr class='athing' id='26740968'>\n",
      "      <td align=\"right\" valign=\"top\" class=\"title\"><span class=\"rank\">28.</span></td>      <td valign=\"top\" class=\"votelinks\"><center><a id='up_26740968' href='vote?id=26740968&amp;how=up&amp;goto=news'><div class='votearrow' title='upvote'></div></a></center></td><td class=\"title\"><a href=\"https://dberard.com/home-built-stm/\" class=\"storylink\">Home-Built Scanning Tunneling Microscope (2015)</a><span class=\"sitebit comhead\"> (<a href=\"from?site=dberard.com\"><span class=\"sitestr\">dberard.com</span></a>)</span></td></tr><tr><td colspan=\"2\"></td><td class=\"subtext\">\n",
      "        <span class=\"score\" id=\"score_26740968\">339 points</span> by <a href=\"user?id=_Microft\" class=\"hnuser\">_Microft</a> <span class=\"age\"><a href=\"item?id=26740968\">18 hours ago</a></span> <span id=\"unv_26740968\"></span> | <a href=\"hide?id=26740968&amp;goto=news\">hide</a> | <a href=\"item?id=26740968\">77&nbsp;comments</a>              </td></tr>\n",
      "      <tr class=\"spacer\" style=\"height:5px\"></tr>\n",
      "                <tr class='athing' id='26737142'>\n",
      "      <td align=\"right\" valign=\"top\" class=\"title\"><span class=\"rank\">29.</span></td>      <td valign=\"top\" class=\"votelinks\"><center><a id='up_26737142' href='vote?id=26737142&amp;how=up&amp;goto=news'><div class='votearrow' title='upvote'></div></a></center></td><td class=\"title\"><a href=\"https://99percentinvisible.org/episode/the-real-book/\" class=\"storylink\">The Real Book</a><span class=\"sitebit comhead\"> (<a href=\"from?site=99percentinvisible.org\"><span class=\"sitestr\">99percentinvisible.org</span></a>)</span></td></tr><tr><td colspan=\"2\"></td><td class=\"subtext\">\n",
      "        <span class=\"score\" id=\"score_26737142\">529 points</span> by <a href=\"user?id=mpweiher\" class=\"hnuser\">mpweiher</a> <span class=\"age\"><a href=\"item?id=26737142\">1 day ago</a></span> <span id=\"unv_26737142\"></span> | <a href=\"hide?id=26737142&amp;goto=news\">hide</a> | <a href=\"item?id=26737142\">125&nbsp;comments</a>              </td></tr>\n",
      "      <tr class=\"spacer\" style=\"height:5px\"></tr>\n",
      "                <tr class='athing' id='26745795'>\n",
      "      <td align=\"right\" valign=\"top\" class=\"title\"><span class=\"rank\">30.</span></td>      <td valign=\"top\" class=\"votelinks\"><center><a id='up_26745795' href='vote?id=26745795&amp;how=up&amp;goto=news'><div class='votearrow' title='upvote'></div></a></center></td><td class=\"title\"><a href=\"https://plutojl.org/plutocon2021\" class=\"storylink\">PlutoCon 2021</a><span class=\"sitebit comhead\"> (<a href=\"from?site=plutojl.org\"><span class=\"sitestr\">plutojl.org</span></a>)</span></td></tr><tr><td colspan=\"2\"></td><td class=\"subtext\">\n",
      "        <span class=\"score\" id=\"score_26745795\">21 points</span> by <a href=\"user?id=amkkma\" class=\"hnuser\">amkkma</a> <span class=\"age\"><a href=\"item?id=26745795\">10 hours ago</a></span> <span id=\"unv_26745795\"></span> | <a href=\"hide?id=26745795&amp;goto=news\">hide</a> | <a href=\"item?id=26745795\">2&nbsp;comments</a>              </td></tr>\n",
      "      <tr class=\"spacer\" style=\"height:5px\"></tr>\n",
      "            <tr class=\"morespace\" style=\"height:10px\"></tr><tr><td colspan=\"2\"></td><td class=\"title\"><a href=\"news?p=2\" class=\"morelink\" rel=\"next\">More</a></td></tr>\n",
      "  </table>\n",
      "</td></tr>\n",
      "<tr><td><img src=\"s.gif\" height=\"10\" width=\"0\"><table width=\"100%\" cellspacing=\"0\" cellpadding=\"1\"><tr><td bgcolor=\"#ff6600\"></td></tr></table><br><center><span class=\"yclinks\"><a href=\"newsguidelines.html\">Guidelines</a>\n",
      "        | <a href=\"newsfaq.html\">FAQ</a>\n",
      "        | <a href=\"lists\">Lists</a>\n",
      "        | <a href=\"https://github.com/HackerNews/API\">API</a>\n",
      "        | <a href=\"security.html\">Security</a>\n",
      "        | <a href=\"http://www.ycombinator.com/legal/\">Legal</a>\n",
      "        | <a href=\"http://www.ycombinator.com/apply/\">Apply to YC</a>\n",
      "        | <a href=\"mailto:hn@ycombinator.com\">Contact</a></span><br><br><form method=\"get\" action=\"//hn.algolia.com/\">Search:\n",
      "          <input type=\"text\" name=\"q\" value=\"\" size=\"17\" autocorrect=\"off\" spellcheck=\"false\" autocapitalize=\"off\" autocomplete=\"false\"></form>\n",
      "            </center></td></tr>\n",
      "      </table></center></body><script type='text/javascript' src='hn.js?kYAZqEBDkZ1yesLxUECv'></script></html>\n",
      "\n"
     ]
    }
   ],
   "source": [
    "import requests\n",
    "\n",
    "# Fetch a web page\n",
    "r = requests.get(\"https://news.ycombinator.com\")\n",
    "print(r.text)"
   ]
  },
  {
   "cell_type": "code",
   "execution_count": 5,
   "metadata": {},
   "outputs": [
    {
     "name": "stdout",
     "output_type": "stream",
     "text": [
      "\n",
      "        \n",
      "          \n",
      "        Hacker News\n",
      "        \n",
      "                  Hacker News\n",
      "              new | past | comments | ask | show | jobs | submit            \n",
      "                              login\n",
      "                          \n",
      "              \n",
      "\n",
      "              \n",
      "      1.      Prince Philip has died aged 99, Buckingham Palace announces (bbc.com)\n",
      "        45 points by longdefeat 10 minutes ago  | hide | 6&nbsp;comments              \n",
      "      \n",
      "                \n",
      "      2.      Nix is the ultimate DevOps toolkit (channable.com)\n",
      "        78 points by rkrzr 1 hour ago  | hide | 12&nbsp;comments              \n",
      "      \n",
      "                \n",
      "      3.      Initial M1 support merged into Linux SoC tree (kernel.org)\n",
      "        322 points by joseluisq 6 hours ago  | hide | 202&nbsp;comments              \n",
      "      \n",
      "                \n",
      "      4.      Is Netflix's Seaspiracy film right about fishing damaging oceans? (bbc.co.uk)\n",
      "        28 points by bananapear 1 hour ago  | hide | 19&nbsp;comments              \n",
      "      \n",
      "                \n",
      "      5.      The Web MiniDisc App: Bringing Back to Life the MiniDisc with WebUSB and WASM (brilli.me)\n",
      "        26 points by mocko 1 hour ago  | hide | 8&nbsp;comments              \n",
      "      \n",
      "                \n",
      "      6.      Docker without Docker (fly.io)\n",
      "        400 points by kwindla 8 hours ago  | hide | 95&nbsp;comments              \n",
      "      \n",
      "                \n",
      "      7.      Monkey MindPong (neuralink.com)\n",
      "        466 points by ag8 11 hours ago  | hide | 184&nbsp;comments              \n",
      "      \n",
      "                \n",
      "      8.      Scalable, Resilient Brainfuck as a service (zserge.com)\n",
      "        70 points by stevekemp 4 hours ago  | hide | 13&nbsp;comments              \n",
      "      \n",
      "                \n",
      "      9.      Food waste responsible for 10% of global emissions (bloomberg.com)\n",
      "        24 points by cwwc 52 minutes ago  | hide | 7&nbsp;comments              \n",
      "      \n",
      "                \n",
      "      10.      They Write the Right Stuff (2021) (david-haber.github.io)\n",
      "        26 points by dh00608000 2 hours ago  | hide | 13&nbsp;comments              \n",
      "      \n",
      "                \n",
      "      11.      Hawking Hawking (columbia.edu)\n",
      "        70 points by chmaynard 6 hours ago  | hide | 35&nbsp;comments              \n",
      "      \n",
      "                \n",
      "      12.      You Don't Need a GUI (github.com/you-dont-need)\n",
      "        278 points by loige 14 hours ago  | hide | 296&nbsp;comments              \n",
      "      \n",
      "                \n",
      "      13.      FFmpeg 4.4 (ffmpeg.org)\n",
      "        195 points by _Gyan_ 7 hours ago  | hide | 53&nbsp;comments              \n",
      "      \n",
      "                \n",
      "      14.      Tree.h in OpenBSD: dependency-free intrusive binary tree (2002) (github.com/openbsd)\n",
      "        63 points by attractivechaos 7 hours ago  | hide | 17&nbsp;comments              \n",
      "      \n",
      "                \n",
      "      15.      Jupiter (YC S19), hyperpersonalized grocery from 2050, hiring product-minded SWE (notion.so)\n",
      "        4 hours ago | hide      \n",
      "      \n",
      "                \n",
      "      16.      CPU-based algorithm trains deep neural nets up to 15 times faster than top GPU (techxplore.com)\n",
      "        346 points by gumby 11 hours ago  | hide | 118&nbsp;comments              \n",
      "      \n",
      "                \n",
      "      17.      How a carnivorous mushroom poisons its prey (scientificamerican.com)\n",
      "        90 points by sohkamyung 9 hours ago  | hide | 20&nbsp;comments              \n",
      "      \n",
      "                \n",
      "      18.      Lossless Text Compression [pdf] (bilalonureskili.com)\n",
      "        51 points by kronxe 9 hours ago  | hide | 23&nbsp;comments              \n",
      "      \n",
      "                \n",
      "      19.      Vald: A Highly Scalable Distributed Vector Search Engine (github.com/vdaas)\n",
      "        75 points by ngaut 11 hours ago  | hide | 22&nbsp;comments              \n",
      "      \n",
      "                \n",
      "      20.      A Brief F# Exploration (srid.ca)\n",
      "        71 points by todsacerdoti 10 hours ago  | hide | 24&nbsp;comments              \n",
      "      \n",
      "                \n",
      "      21.      W3C slaps down Google's proposal to treat multiple domains as same origin (theregister.com)\n",
      "        65 points by kiyanwang 3 hours ago  | hide | 29&nbsp;comments              \n",
      "      \n",
      "                \n",
      "      22.      Deep genetic affinity between coastal Pacific and Amazonian natives (pnas.org)\n",
      "        70 points by Thevet 13 hours ago  | hide | 23&nbsp;comments              \n",
      "      \n",
      "                \n",
      "      23.      The architecture behind a one-person tech startup (anthonynsimon.com)\n",
      "        1135 points by ksahin 23 hours ago  | hide | 280&nbsp;comments              \n",
      "      \n",
      "                \n",
      "      24.      Hooking keyboard input to play Snake in Notepad.exe (2020) (kylehalladay.com)\n",
      "        67 points by pcr910303 11 hours ago  | hide | 9&nbsp;comments              \n",
      "      \n",
      "                \n",
      "      25.      Why do long options start with two dashes? (2019) (djmnet.org)\n",
      "        293 points by spyh 13 hours ago  | hide | 201&nbsp;comments              \n",
      "      \n",
      "                \n",
      "      26.      Idempotence now prevents pain later (ericlathrop.com)\n",
      "        334 points by zdw 16 hours ago  | hide | 109&nbsp;comments              \n",
      "      \n",
      "                \n",
      "      27.      Huawei deactivates AI and cloud business group in restructuring (nikkei.com)\n",
      "        23 points by shirkey 8 hours ago  | hide | 21&nbsp;comments              \n",
      "      \n",
      "                \n",
      "      28.      Home-Built Scanning Tunneling Microscope (2015) (dberard.com)\n",
      "        339 points by _Microft 18 hours ago  | hide | 77&nbsp;comments              \n",
      "      \n",
      "                \n",
      "      29.      The Real Book (99percentinvisible.org)\n",
      "        529 points by mpweiher 1 day ago  | hide | 125&nbsp;comments              \n",
      "      \n",
      "                \n",
      "      30.      PlutoCon 2021 (plutojl.org)\n",
      "        21 points by amkkma 10 hours ago  | hide | 2&nbsp;comments              \n",
      "      \n",
      "            More\n",
      "  \n",
      "\n",
      "Guidelines\n",
      "        | FAQ\n",
      "        | Lists\n",
      "        | API\n",
      "        | Security\n",
      "        | Legal\n",
      "        | Apply to YC\n",
      "        | ContactSearch:\n",
      "          \n",
      "            \n",
      "      \n",
      "\n"
     ]
    }
   ],
   "source": [
    "import re\n",
    "\n",
    "# Remove HTML tags using RegEx\n",
    "pattern = re.compile(r'<.*?>')  # tags look like <...>\n",
    "print(pattern.sub('', r.text))  # replace them with blank"
   ]
  },
  {
   "cell_type": "code",
   "execution_count": 6,
   "metadata": {},
   "outputs": [
    {
     "name": "stdout",
     "output_type": "stream",
     "text": [
      "\n",
      "        \n",
      "          \n",
      "        Hacker News\n",
      "        \n",
      "                  Hacker News\n",
      "              new | past | comments | ask | show | jobs | submit            \n",
      "                              login\n",
      "                          \n",
      "              \n",
      "\n",
      "              \n",
      "      1.      Prince Philip has died aged 99, Buckingham Palace announces (bbc.com)\n",
      "        45 points by longdefeat 10 minutes ago  | hide | 6 comments              \n",
      "      \n",
      "                \n",
      "      2.      Nix is the ultimate DevOps toolkit (channable.com)\n",
      "        78 points by rkrzr 1 hour ago  | hide | 12 comments              \n",
      "      \n",
      "                \n",
      "      3.      Initial M1 support merged into Linux SoC tree (kernel.org)\n",
      "        322 points by joseluisq 6 hours ago  | hide | 202 comments              \n",
      "      \n",
      "                \n",
      "      4.      Is Netflix's Seaspiracy film right about fishing damaging oceans? (bbc.co.uk)\n",
      "        28 points by bananapear 1 hour ago  | hide | 19 comments              \n",
      "      \n",
      "                \n",
      "      5.      The Web MiniDisc App: Bringing Back to Life the MiniDisc with WebUSB and WASM (brilli.me)\n",
      "        26 points by mocko 1 hour ago  | hide | 8 comments              \n",
      "      \n",
      "                \n",
      "      6.      Docker without Docker (fly.io)\n",
      "        400 points by kwindla 8 hours ago  | hide | 95 comments              \n",
      "      \n",
      "                \n",
      "      7.      Monkey MindPong (neuralink.com)\n",
      "        466 points by ag8 11 hours ago  | hide | 184 comments              \n",
      "      \n",
      "                \n",
      "      8.      Scalable, Resilient Brainfuck as a service (zserge.com)\n",
      "        70 points by stevekemp 4 hours ago  | hide | 13 comments              \n",
      "      \n",
      "                \n",
      "      9.      Food waste responsible for 10% of global emissions (bloomberg.com)\n",
      "        24 points by cwwc 52 minutes ago  | hide | 7 comments              \n",
      "      \n",
      "                \n",
      "      10.      They Write the Right Stuff (2021) (david-haber.github.io)\n",
      "        26 points by dh00608000 2 hours ago  | hide | 13 comments              \n",
      "      \n",
      "                \n",
      "      11.      Hawking Hawking (columbia.edu)\n",
      "        70 points by chmaynard 6 hours ago  | hide | 35 comments              \n",
      "      \n",
      "                \n",
      "      12.      You Don't Need a GUI (github.com/you-dont-need)\n",
      "        278 points by loige 14 hours ago  | hide | 296 comments              \n",
      "      \n",
      "                \n",
      "      13.      FFmpeg 4.4 (ffmpeg.org)\n",
      "        195 points by _Gyan_ 7 hours ago  | hide | 53 comments              \n",
      "      \n",
      "                \n",
      "      14.      Tree.h in OpenBSD: dependency-free intrusive binary tree (2002) (github.com/openbsd)\n",
      "        63 points by attractivechaos 7 hours ago  | hide | 17 comments              \n",
      "      \n",
      "                \n",
      "      15.      Jupiter (YC S19), hyperpersonalized grocery from 2050, hiring product-minded SWE (notion.so)\n",
      "        4 hours ago | hide      \n",
      "      \n",
      "                \n",
      "      16.      CPU-based algorithm trains deep neural nets up to 15 times faster than top GPU (techxplore.com)\n",
      "        346 points by gumby 11 hours ago  | hide | 118 comments              \n",
      "      \n",
      "                \n",
      "      17.      How a carnivorous mushroom poisons its prey (scientificamerican.com)\n",
      "        90 points by sohkamyung 9 hours ago  | hide | 20 comments              \n",
      "      \n",
      "                \n",
      "      18.      Lossless Text Compression [pdf] (bilalonureskili.com)\n",
      "        51 points by kronxe 9 hours ago  | hide | 23 comments              \n",
      "      \n",
      "                \n",
      "      19.      Vald: A Highly Scalable Distributed Vector Search Engine (github.com/vdaas)\n",
      "        75 points by ngaut 11 hours ago  | hide | 22 comments              \n",
      "      \n",
      "                \n",
      "      20.      A Brief F# Exploration (srid.ca)\n",
      "        71 points by todsacerdoti 10 hours ago  | hide | 24 comments              \n",
      "      \n",
      "                \n",
      "      21.      W3C slaps down Google's proposal to treat multiple domains as same origin (theregister.com)\n",
      "        65 points by kiyanwang 3 hours ago  | hide | 29 comments              \n",
      "      \n",
      "                \n",
      "      22.      Deep genetic affinity between coastal Pacific and Amazonian natives (pnas.org)\n",
      "        70 points by Thevet 13 hours ago  | hide | 23 comments              \n",
      "      \n",
      "                \n",
      "      23.      The architecture behind a one-person tech startup (anthonynsimon.com)\n",
      "        1135 points by ksahin 23 hours ago  | hide | 280 comments              \n",
      "      \n",
      "                \n",
      "      24.      Hooking keyboard input to play Snake in Notepad.exe (2020) (kylehalladay.com)\n",
      "        67 points by pcr910303 11 hours ago  | hide | 9 comments              \n",
      "      \n",
      "                \n",
      "      25.      Why do long options start with two dashes? (2019) (djmnet.org)\n",
      "        293 points by spyh 13 hours ago  | hide | 201 comments              \n",
      "      \n",
      "                \n",
      "      26.      Idempotence now prevents pain later (ericlathrop.com)\n",
      "        334 points by zdw 16 hours ago  | hide | 109 comments              \n",
      "      \n",
      "                \n",
      "      27.      Huawei deactivates AI and cloud business group in restructuring (nikkei.com)\n",
      "        23 points by shirkey 8 hours ago  | hide | 21 comments              \n",
      "      \n",
      "                \n",
      "      28.      Home-Built Scanning Tunneling Microscope (2015) (dberard.com)\n",
      "        339 points by _Microft 18 hours ago  | hide | 77 comments              \n",
      "      \n",
      "                \n",
      "      29.      The Real Book (99percentinvisible.org)\n",
      "        529 points by mpweiher 1 day ago  | hide | 125 comments              \n",
      "      \n",
      "                \n",
      "      30.      PlutoCon 2021 (plutojl.org)\n",
      "        21 points by amkkma 10 hours ago  | hide | 2 comments              \n",
      "      \n",
      "            More\n",
      "  \n",
      "\n",
      "Guidelines\n",
      "        | FAQ\n",
      "        | Lists\n",
      "        | API\n",
      "        | Security\n",
      "        | Legal\n",
      "        | Apply to YC\n",
      "        | ContactSearch:\n",
      "          \n",
      "            \n",
      "      \n",
      "\n"
     ]
    }
   ],
   "source": [
    "from bs4 import BeautifulSoup\n",
    "\n",
    "# Remove HTML tags using Beautiful Soup library\n",
    "soup = BeautifulSoup(r.text, \"html5lib\")\n",
    "print(soup.get_text())"
   ]
  },
  {
   "cell_type": "code",
   "execution_count": 7,
   "metadata": {
    "scrolled": true
   },
   "outputs": [
    {
     "data": {
      "text/plain": [
       "<tr class=\"athing\" id=\"26749021\">\n",
       "      <td align=\"right\" class=\"title\" valign=\"top\"><span class=\"rank\">1.</span></td>      <td class=\"votelinks\" valign=\"top\"><center><a href=\"vote?id=26749021&amp;how=up&amp;goto=news\" id=\"up_26749021\"><div class=\"votearrow\" title=\"upvote\"></div></a></center></td><td class=\"title\"><a class=\"storylink\" href=\"https://www.bbc.com/news/uk-11437314\">Prince Philip has died aged 99, Buckingham Palace announces</a><span class=\"sitebit comhead\"> (<a href=\"from?site=bbc.com\"><span class=\"sitestr\">bbc.com</span></a>)</span></td></tr>"
      ]
     },
     "execution_count": 7,
     "metadata": {},
     "output_type": "execute_result"
    }
   ],
   "source": [
    "# Find all articles\n",
    "summaries = soup.find_all(\"tr\", class_=\"athing\")\n",
    "summaries[0]"
   ]
  },
  {
   "cell_type": "code",
   "execution_count": 8,
   "metadata": {},
   "outputs": [
    {
     "data": {
      "text/plain": [
       "'Prince Philip has died aged 99, Buckingham Palace announces'"
      ]
     },
     "execution_count": 8,
     "metadata": {},
     "output_type": "execute_result"
    }
   ],
   "source": [
    "# Extract title\n",
    "summaries[0].find(\"a\", class_=\"storylink\").get_text().strip()"
   ]
  },
  {
   "cell_type": "code",
   "execution_count": 9,
   "metadata": {},
   "outputs": [
    {
     "name": "stdout",
     "output_type": "stream",
     "text": [
      "30 Article summaries found. Sample:\n",
      "Prince Philip has died aged 99, Buckingham Palace announces\n"
     ]
    }
   ],
   "source": [
    "# Find all articles, extract titles\n",
    "articles = []\n",
    "summaries = soup.find_all(\"tr\", class_=\"athing\")\n",
    "for summary in summaries:\n",
    "    title = summary.find(\"a\", class_=\"storylink\").get_text().strip()\n",
    "    articles.append((title))\n",
    "\n",
    "print(len(articles), \"Article summaries found. Sample:\")\n",
    "print(articles[0])"
   ]
  },
  {
   "cell_type": "markdown",
   "metadata": {
    "collapsed": true
   },
   "source": [
    "## Normalization"
   ]
  },
  {
   "cell_type": "markdown",
   "metadata": {},
   "source": [
    "### Case Normalization"
   ]
  },
  {
   "cell_type": "code",
   "execution_count": 10,
   "metadata": {},
   "outputs": [
    {
     "name": "stdout",
     "output_type": "stream",
     "text": [
      "The first time you see The Second Renaissance it may look boring. Look at it at least twice and definitely watch part 2. It will change your view of the matrix. Are the human people the ones who started the war ? Is AI a bad thing ?\n"
     ]
    }
   ],
   "source": [
    "# Sample text\n",
    "text = \"The first time you see The Second Renaissance it may look boring. Look at it at least twice and definitely watch part 2. It will change your view of the matrix. Are the human people the ones who started the war ? Is AI a bad thing ?\"\n",
    "print(text)"
   ]
  },
  {
   "cell_type": "code",
   "execution_count": 11,
   "metadata": {},
   "outputs": [
    {
     "name": "stdout",
     "output_type": "stream",
     "text": [
      "the first time you see the second renaissance it may look boring. look at it at least twice and definitely watch part 2. it will change your view of the matrix. are the human people the ones who started the war ? is ai a bad thing ?\n"
     ]
    }
   ],
   "source": [
    "# Convert to lowercase\n",
    "text = text.lower() \n",
    "print(text)"
   ]
  },
  {
   "cell_type": "markdown",
   "metadata": {},
   "source": [
    "### Punctuation Removal"
   ]
  },
  {
   "cell_type": "code",
   "execution_count": 12,
   "metadata": {},
   "outputs": [
    {
     "name": "stdout",
     "output_type": "stream",
     "text": [
      "the first time you see the second renaissance it may look boring  look at it at least twice and definitely watch part 2  it will change your view of the matrix  are the human people the ones who started the war   is ai a bad thing  \n"
     ]
    }
   ],
   "source": [
    "import re\n",
    "\n",
    "# Remove punctuation characters\n",
    "text = re.sub(r\"[^a-zA-Z0-9]\", \" \", text) \n",
    "print(text)"
   ]
  },
  {
   "cell_type": "markdown",
   "metadata": {},
   "source": [
    "## Tokenization"
   ]
  },
  {
   "cell_type": "code",
   "execution_count": 13,
   "metadata": {},
   "outputs": [
    {
     "name": "stdout",
     "output_type": "stream",
     "text": [
      "['the', 'first', 'time', 'you', 'see', 'the', 'second', 'renaissance', 'it', 'may', 'look', 'boring', 'look', 'at', 'it', 'at', 'least', 'twice', 'and', 'definitely', 'watch', 'part', '2', 'it', 'will', 'change', 'your', 'view', 'of', 'the', 'matrix', 'are', 'the', 'human', 'people', 'the', 'ones', 'who', 'started', 'the', 'war', 'is', 'ai', 'a', 'bad', 'thing']\n"
     ]
    }
   ],
   "source": [
    "# Split text into tokens (words)\n",
    "words = text.split()\n",
    "print(words)"
   ]
  },
  {
   "cell_type": "markdown",
   "metadata": {},
   "source": [
    "### NLTK: Natural Language ToolKit"
   ]
  },
  {
   "cell_type": "code",
   "execution_count": 14,
   "metadata": {},
   "outputs": [],
   "source": [
    "import os\n",
    "import nltk\n",
    "nltk.data.path.append(os.path.join(os.getcwd(), \"nltk_data\"))"
   ]
  },
  {
   "cell_type": "code",
   "execution_count": 15,
   "metadata": {},
   "outputs": [
    {
     "name": "stdout",
     "output_type": "stream",
     "text": [
      "Dr. Smith graduated from the University of Washington. He later started an analytics firm called Lux, which catered to enterprise customers.\n"
     ]
    }
   ],
   "source": [
    "# Another sample text\n",
    "text = \"Dr. Smith graduated from the University of Washington. He later started an analytics firm called Lux, which catered to enterprise customers.\"\n",
    "print(text)"
   ]
  },
  {
   "cell_type": "code",
   "execution_count": 16,
   "metadata": {},
   "outputs": [
    {
     "name": "stdout",
     "output_type": "stream",
     "text": [
      "['Dr.', 'Smith', 'graduated', 'from', 'the', 'University', 'of', 'Washington', '.', 'He', 'later', 'started', 'an', 'analytics', 'firm', 'called', 'Lux', ',', 'which', 'catered', 'to', 'enterprise', 'customers', '.']\n"
     ]
    }
   ],
   "source": [
    "from nltk.tokenize import word_tokenize\n",
    "\n",
    "# Split text into words using NLTK\n",
    "words = word_tokenize(text)\n",
    "print(words)"
   ]
  },
  {
   "cell_type": "code",
   "execution_count": 17,
   "metadata": {},
   "outputs": [
    {
     "name": "stdout",
     "output_type": "stream",
     "text": [
      "['Dr. Smith graduated from the University of Washington.', 'He later started an analytics firm called Lux, which catered to enterprise customers.']\n"
     ]
    }
   ],
   "source": [
    "from nltk.tokenize import sent_tokenize\n",
    "\n",
    "# Split text into sentences\n",
    "sentences = sent_tokenize(text)\n",
    "print(sentences)"
   ]
  },
  {
   "cell_type": "code",
   "execution_count": 18,
   "metadata": {},
   "outputs": [
    {
     "name": "stdout",
     "output_type": "stream",
     "text": [
      "['i', 'me', 'my', 'myself', 'we', 'our', 'ours', 'ourselves', 'you', \"you're\", \"you've\", \"you'll\", \"you'd\", 'your', 'yours', 'yourself', 'yourselves', 'he', 'him', 'his', 'himself', 'she', \"she's\", 'her', 'hers', 'herself', 'it', \"it's\", 'its', 'itself', 'they', 'them', 'their', 'theirs', 'themselves', 'what', 'which', 'who', 'whom', 'this', 'that', \"that'll\", 'these', 'those', 'am', 'is', 'are', 'was', 'were', 'be', 'been', 'being', 'have', 'has', 'had', 'having', 'do', 'does', 'did', 'doing', 'a', 'an', 'the', 'and', 'but', 'if', 'or', 'because', 'as', 'until', 'while', 'of', 'at', 'by', 'for', 'with', 'about', 'against', 'between', 'into', 'through', 'during', 'before', 'after', 'above', 'below', 'to', 'from', 'up', 'down', 'in', 'out', 'on', 'off', 'over', 'under', 'again', 'further', 'then', 'once', 'here', 'there', 'when', 'where', 'why', 'how', 'all', 'any', 'both', 'each', 'few', 'more', 'most', 'other', 'some', 'such', 'no', 'nor', 'not', 'only', 'own', 'same', 'so', 'than', 'too', 'very', 's', 't', 'can', 'will', 'just', 'don', \"don't\", 'should', \"should've\", 'now', 'd', 'll', 'm', 'o', 're', 've', 'y', 'ain', 'aren', \"aren't\", 'couldn', \"couldn't\", 'didn', \"didn't\", 'doesn', \"doesn't\", 'hadn', \"hadn't\", 'hasn', \"hasn't\", 'haven', \"haven't\", 'isn', \"isn't\", 'ma', 'mightn', \"mightn't\", 'mustn', \"mustn't\", 'needn', \"needn't\", 'shan', \"shan't\", 'shouldn', \"shouldn't\", 'wasn', \"wasn't\", 'weren', \"weren't\", 'won', \"won't\", 'wouldn', \"wouldn't\"]\n"
     ]
    }
   ],
   "source": [
    "# List stop words\n",
    "from nltk.corpus import stopwords\n",
    "print(stopwords.words(\"english\"))"
   ]
  },
  {
   "cell_type": "code",
   "execution_count": 19,
   "metadata": {},
   "outputs": [
    {
     "name": "stdout",
     "output_type": "stream",
     "text": [
      "['the', 'first', 'time', 'you', 'see', 'the', 'second', 'renaissance', 'it', 'may', 'look', 'boring', 'look', 'at', 'it', 'at', 'least', 'twice', 'and', 'definitely', 'watch', 'part', '2', 'it', 'will', 'change', 'your', 'view', 'of', 'the', 'matrix', 'are', 'the', 'human', 'people', 'the', 'ones', 'who', 'started', 'the', 'war', 'is', 'ai', 'a', 'bad', 'thing']\n"
     ]
    }
   ],
   "source": [
    "# Reset text\n",
    "text = \"The first time you see The Second Renaissance it may look boring. Look at it at least twice and definitely watch part 2. It will change your view of the matrix. Are the human people the ones who started the war ? Is AI a bad thing ?\"\n",
    "\n",
    "# Normalize it\n",
    "text = re.sub(r\"[^a-zA-Z0-9]\", \" \", text.lower())\n",
    "\n",
    "# Tokenize it\n",
    "words = text.split()\n",
    "print(words)"
   ]
  },
  {
   "cell_type": "code",
   "execution_count": 20,
   "metadata": {},
   "outputs": [
    {
     "name": "stdout",
     "output_type": "stream",
     "text": [
      "['first', 'time', 'see', 'second', 'renaissance', 'may', 'look', 'boring', 'look', 'least', 'twice', 'definitely', 'watch', 'part', '2', 'change', 'view', 'matrix', 'human', 'people', 'ones', 'started', 'war', 'ai', 'bad', 'thing']\n"
     ]
    }
   ],
   "source": [
    "# Remove stop words\n",
    "words = [w for w in words if w not in stopwords.words(\"english\")]\n",
    "print(words)"
   ]
  },
  {
   "cell_type": "markdown",
   "metadata": {},
   "source": [
    "### Sentence Parsing"
   ]
  },
  {
   "cell_type": "code",
   "execution_count": 21,
   "metadata": {},
   "outputs": [
    {
     "name": "stdout",
     "output_type": "stream",
     "text": [
      "(S\n",
      "  (NP I)\n",
      "  (VP\n",
      "    (VP (V shot) (NP (Det an) (N elephant)))\n",
      "    (PP (P in) (NP (Det my) (N pajamas)))))\n",
      "(S\n",
      "  (NP I)\n",
      "  (VP\n",
      "    (V shot)\n",
      "    (NP (Det an) (N elephant) (PP (P in) (NP (Det my) (N pajamas))))))\n"
     ]
    }
   ],
   "source": [
    "import nltk\n",
    "\n",
    "# Define a custom grammar\n",
    "my_grammar = nltk.CFG.fromstring(\"\"\"\n",
    "S -> NP VP\n",
    "PP -> P NP\n",
    "NP -> Det N | Det N PP | 'I'\n",
    "VP -> V NP | VP PP\n",
    "Det -> 'an' | 'my'\n",
    "N -> 'elephant' | 'pajamas'\n",
    "V -> 'shot'\n",
    "P -> 'in'\n",
    "\"\"\")\n",
    "parser = nltk.ChartParser(my_grammar)\n",
    "\n",
    "# Parse a sentence\n",
    "sentence = word_tokenize(\"I shot an elephant in my pajamas\")\n",
    "for tree in parser.parse(sentence):\n",
    "    print(tree)"
   ]
  },
  {
   "cell_type": "markdown",
   "metadata": {},
   "source": [
    "## Stemming & Lemmatization\n",
    "\n",
    "### Stemming"
   ]
  },
  {
   "cell_type": "code",
   "execution_count": 22,
   "metadata": {},
   "outputs": [
    {
     "name": "stdout",
     "output_type": "stream",
     "text": [
      "['first', 'time', 'see', 'second', 'renaiss', 'may', 'look', 'bore', 'look', 'least', 'twice', 'definit', 'watch', 'part', '2', 'chang', 'view', 'matrix', 'human', 'peopl', 'one', 'start', 'war', 'ai', 'bad', 'thing']\n"
     ]
    }
   ],
   "source": [
    "from nltk.stem.porter import PorterStemmer\n",
    "\n",
    "# Reduce words to their stems\n",
    "stemmed = [PorterStemmer().stem(w) for w in words]\n",
    "print(stemmed)"
   ]
  },
  {
   "cell_type": "markdown",
   "metadata": {},
   "source": [
    "### Lemmatization"
   ]
  },
  {
   "cell_type": "code",
   "execution_count": 23,
   "metadata": {},
   "outputs": [
    {
     "name": "stdout",
     "output_type": "stream",
     "text": [
      "['first', 'time', 'see', 'second', 'renaissance', 'may', 'look', 'boring', 'look', 'least', 'twice', 'definitely', 'watch', 'part', '2', 'change', 'view', 'matrix', 'human', 'people', 'one', 'started', 'war', 'ai', 'bad', 'thing']\n"
     ]
    }
   ],
   "source": [
    "from nltk.stem.wordnet import WordNetLemmatizer\n",
    "\n",
    "# Reduce words to their root form\n",
    "lemmed = [WordNetLemmatizer().lemmatize(w) for w in words]\n",
    "print(lemmed)"
   ]
  },
  {
   "cell_type": "code",
   "execution_count": 24,
   "metadata": {},
   "outputs": [
    {
     "name": "stdout",
     "output_type": "stream",
     "text": [
      "['first', 'time', 'see', 'second', 'renaissance', 'may', 'look', 'bore', 'look', 'least', 'twice', 'definitely', 'watch', 'part', '2', 'change', 'view', 'matrix', 'human', 'people', 'one', 'start', 'war', 'ai', 'bad', 'thing']\n"
     ]
    }
   ],
   "source": [
    "# Lemmatize verbs by specifying pos\n",
    "lemmed = [WordNetLemmatizer().lemmatize(w, pos='v') for w in lemmed]\n",
    "print(lemmed)"
   ]
  }
 ],
 "metadata": {
  "kernelspec": {
   "display_name": "Python 3",
   "language": "python",
   "name": "python3"
  },
  "language_info": {
   "codemirror_mode": {
    "name": "ipython",
    "version": 3
   },
   "file_extension": ".py",
   "mimetype": "text/x-python",
   "name": "python",
   "nbconvert_exporter": "python",
   "pygments_lexer": "ipython3",
   "version": "3.6.3"
  }
 },
 "nbformat": 4,
 "nbformat_minor": 2
}
