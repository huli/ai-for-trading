{
 "cells": [
  {
   "cell_type": "markdown",
   "id": "turkish-december",
   "metadata": {},
   "source": [
    "### Estimate Volatility"
   ]
  },
  {
   "cell_type": "code",
   "execution_count": 1,
   "id": "appointed-wedding",
   "metadata": {},
   "outputs": [],
   "source": [
    "import pandas as pd\n",
    "import numpy as np"
   ]
  },
  {
   "cell_type": "code",
   "execution_count": 4,
   "id": "lesser-federation",
   "metadata": {},
   "outputs": [
    {
     "data": {
      "text/html": [
       "<div>\n",
       "<style scoped>\n",
       "    .dataframe tbody tr th:only-of-type {\n",
       "        vertical-align: middle;\n",
       "    }\n",
       "\n",
       "    .dataframe tbody tr th {\n",
       "        vertical-align: top;\n",
       "    }\n",
       "\n",
       "    .dataframe thead th {\n",
       "        text-align: right;\n",
       "    }\n",
       "</style>\n",
       "<table border=\"1\" class=\"dataframe\">\n",
       "  <thead>\n",
       "    <tr style=\"text-align: right;\">\n",
       "      <th></th>\n",
       "      <th>price</th>\n",
       "      <th>date</th>\n",
       "    </tr>\n",
       "  </thead>\n",
       "  <tbody>\n",
       "    <tr>\n",
       "      <th>0</th>\n",
       "      <td>558.460000</td>\n",
       "      <td>2013-07-02</td>\n",
       "    </tr>\n",
       "    <tr>\n",
       "      <th>1</th>\n",
       "      <td>556.617926</td>\n",
       "      <td>2013-07-03</td>\n",
       "    </tr>\n",
       "    <tr>\n",
       "      <th>2</th>\n",
       "      <td>558.441898</td>\n",
       "      <td>2013-07-05</td>\n",
       "    </tr>\n",
       "    <tr>\n",
       "      <th>3</th>\n",
       "      <td>556.181508</td>\n",
       "      <td>2013-07-08</td>\n",
       "    </tr>\n",
       "    <tr>\n",
       "      <th>4</th>\n",
       "      <td>558.742118</td>\n",
       "      <td>2013-07-09</td>\n",
       "    </tr>\n",
       "  </tbody>\n",
       "</table>\n",
       "</div>"
      ],
      "text/plain": [
       "        price        date\n",
       "0  558.460000  2013-07-02\n",
       "1  556.617926  2013-07-03\n",
       "2  558.441898  2013-07-05\n",
       "3  556.181508  2013-07-08\n",
       "4  558.742118  2013-07-09"
      ]
     },
     "execution_count": 4,
     "metadata": {},
     "output_type": "execute_result"
    }
   ],
   "source": [
    "df = pd.read_csv('data/prices.csv', delimiter=',')\n",
    "df.head()"
   ]
  },
  {
   "cell_type": "code",
   "execution_count": 10,
   "id": "logical-authorization",
   "metadata": {},
   "outputs": [],
   "source": [
    "prices = df.price"
   ]
  },
  {
   "cell_type": "code",
   "execution_count": 14,
   "id": "vertical-smile",
   "metadata": {},
   "outputs": [
    {
     "data": {
      "text/plain": [
       "0            NaN\n",
       "1      -0.003298\n",
       "2       0.003277\n",
       "3      -0.004048\n",
       "4       0.004604\n",
       "          ...   \n",
       "1003   -0.006859\n",
       "1004    0.004243\n",
       "1005   -0.005225\n",
       "1006   -0.004771\n",
       "1007    0.004030\n",
       "Name: price, Length: 1008, dtype: float64"
      ]
     },
     "execution_count": 14,
     "metadata": {},
     "output_type": "execute_result"
    }
   ],
   "source": [
    "# calculate returns\n",
    "returns = (prices-prices.shift(1))/prices.shift(1)\n",
    "returns"
   ]
  },
  {
   "cell_type": "code",
   "execution_count": 18,
   "id": "simplified-involvement",
   "metadata": {},
   "outputs": [
    {
     "data": {
      "text/plain": [
       "0            NaN\n",
       "1      -0.003298\n",
       "2       0.003277\n",
       "3      -0.004048\n",
       "4       0.004604\n",
       "          ...   \n",
       "1003   -0.006859\n",
       "1004    0.004243\n",
       "1005   -0.005225\n",
       "1006   -0.004771\n",
       "1007    0.004030\n",
       "Name: price, Length: 1008, dtype: float64"
      ]
     },
     "execution_count": 18,
     "metadata": {},
     "output_type": "execute_result"
    }
   ],
   "source": [
    "# compare with implemented function\n",
    "prices.pct_change()"
   ]
  },
  {
   "cell_type": "code",
   "execution_count": 23,
   "id": "identified-transportation",
   "metadata": {},
   "outputs": [
    {
     "data": {
      "text/plain": [
       "(0         NaN\n",
       " 1   -0.003304\n",
       " 2    0.003272\n",
       " 3   -0.004056\n",
       " 4    0.004593\n",
       " Name: price, dtype: float64,\n",
       " 0         NaN\n",
       " 1   -0.003304\n",
       " 2    0.003272\n",
       " 3   -0.004056\n",
       " 4    0.004593\n",
       " Name: price, dtype: float64)"
      ]
     },
     "execution_count": 23,
     "metadata": {},
     "output_type": "execute_result"
    }
   ],
   "source": [
    "# calculate log returns\n",
    "np.log(returns+1)[:5], np.log(prices/prices.shift(1))[:5]"
   ]
  },
  {
   "cell_type": "code",
   "execution_count": 26,
   "id": "pacific-stretch",
   "metadata": {},
   "outputs": [
    {
     "data": {
      "text/plain": [
       "0         NaN\n",
       "1   -0.003304\n",
       "2    0.003272\n",
       "3   -0.004056\n",
       "4    0.004593\n",
       "Name: price, dtype: float64"
      ]
     },
     "execution_count": 26,
     "metadata": {},
     "output_type": "execute_result"
    }
   ],
   "source": [
    "# log notation\n",
    "(np.log(prices)-np.log(prices.shift(1)))[:5]"
   ]
  },
  {
   "cell_type": "code",
   "execution_count": 39,
   "id": "civic-patrol",
   "metadata": {},
   "outputs": [
    {
     "name": "stdout",
     "output_type": "stream",
     "text": [
      "Most recent volatility estimate: 0.004941\n"
     ]
    }
   ],
   "source": [
    "import pandas as pd\n",
    "import numpy as np\n",
    "\n",
    "def estimate_volatility(prices, l):\n",
    "    \"\"\"Create an exponential moving average model of the volatility of a stock\n",
    "    price, and return the most recent (last) volatility estimate.\n",
    "    \n",
    "    Parameters\n",
    "    ----------\n",
    "    prices : pandas.Series\n",
    "        A series of adjusted closing prices for a stock.\n",
    "        \n",
    "    l : float\n",
    "        The 'lambda' parameter of the exponential moving average model. Making\n",
    "        this value smaller will cause the model to weight older terms less \n",
    "        relative to more recent terms.\n",
    "        \n",
    "    Returns\n",
    "    -------\n",
    "    last_vol : float\n",
    "        The last element of your exponential moving averge volatility model series.\n",
    "    \n",
    "    \"\"\"\n",
    "    log_returns = (np.log(prices/prices.shift(1)))\n",
    "    log_returns_power = log_returns**2\n",
    "    exp_smoothed_returns = log_returns_power.ewm(alpha=1-l).mean()\n",
    "    last_value = exp_smoothed_returns.values[-1]\n",
    "    return np.sqrt(last_value)\n",
    "    \n",
    "def test_run(filename='data/prices.csv'):\n",
    "    \"\"\"Test run get_most_volatile() with stock prices from a file.\"\"\"\n",
    "    prices = pd.read_csv(filename, parse_dates=['date'], index_col='date', squeeze=True)\n",
    "    print(\"Most recent volatility estimate: {:.6f}\".format(estimate_volatility(prices, 0.7)))\n",
    "\n",
    "\n",
    "if __name__ == '__main__':\n",
    "    test_run()"
   ]
  }
 ],
 "metadata": {
  "kernelspec": {
   "display_name": "Python 3",
   "language": "python",
   "name": "python3"
  },
  "language_info": {
   "codemirror_mode": {
    "name": "ipython",
    "version": 3
   },
   "file_extension": ".py",
   "mimetype": "text/x-python",
   "name": "python",
   "nbconvert_exporter": "python",
   "pygments_lexer": "ipython3",
   "version": "3.8.5"
  }
 },
 "nbformat": 4,
 "nbformat_minor": 5
}
